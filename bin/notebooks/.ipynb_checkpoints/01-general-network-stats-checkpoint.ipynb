{
 "cells": [
  {
   "cell_type": "code",
   "execution_count": 1,
   "id": "e2a5bd34",
   "metadata": {},
   "outputs": [
    {
     "name": "stderr",
     "output_type": "stream",
     "text": [
      "\u001b[34m\u001b[1mwandb\u001b[0m: Currently logged in as: \u001b[33mcirquit\u001b[0m (\u001b[33mkubework\u001b[0m). Use \u001b[1m`wandb login --relogin`\u001b[0m to force relogin\n"
     ]
    },
    {
     "name": "stdout",
     "output_type": "stream",
     "text": [
      "LOG_PATH:../../artifacts/wandb\n",
      "NETWORK_LOG_PATH:../../artifacts/networking/logs\n",
      "FIGURE_PATH:../../paper/figures\n"
     ]
    }
   ],
   "source": [
    "import os\n",
    "import numpy as np\n",
    "import scipy\n",
    "import pandas as pd\n",
    "import matplotlib.pyplot as plt\n",
    "import matplotlib.ticker as ticker\n",
    "import seaborn as sns\n",
    "import wandb\n",
    "wandb.login()\n",
    "pd.set_option('display.max_rows', 200)\n",
    "plotting_context = \"paper\"\n",
    "default_palette = \"colorblind\"\n",
    "a_palette = sns.color_palette(\"YlOrRd\", 2)\n",
    "b_palette = sns.color_palette(\"icefire\", 2)\n",
    "c_palette = sns.color_palette(\"tab20\", 2)\n",
    "models_palette = sns.color_palette(\"Spectral\",2)\n",
    "font_scale = 1.4\n",
    "sns.set(font_scale=font_scale, context=plotting_context)\n",
    "sns.set(rc={\"figure.dpi\":300, 'savefig.dpi':300})\n",
    "\n",
    "def get_env(var):\n",
    "    val = os.getenv(var)\n",
    "    if val == None:\n",
    "        raise ValueError(f\"Environment variable {var} is not set. Please follow the README.md instructions and start the notebook with all environment variables set.\")\n",
    "    else:\n",
    "        print(f\"{var}:{val}\")\n",
    "    return val\n",
    "\n",
    "LOG_PATH=get_env(\"LOG_PATH\")\n",
    "NETWORK_PATH=get_env(\"NETWORK_LOG_PATH\")\n",
    "FIGURE_PATH=get_env(\"FIGURE_PATH\")\n",
    "\n",
    "def save_figure(name, local_fig_dir, file_type='pdf'):\n",
    "    '''Save matplotlib figures at a local directory based on the full hardcoded path\n",
    "    :param name: str - name of the pdf figure (e.g., \"throughput\")\n",
    "    :param local_fig_dir: str - plots are saved under a subdirectory based on the pipeline (e.g., \"image-pipeline\")\n",
    "    '''\n",
    "    figure_path   = FIGURE_PATH\n",
    "    full_fig_dir  = figure_path + \"/\" + local_fig_dir\n",
    "    full_fig_path = full_fig_dir + \"/\" + name + \".\" + file_type\n",
    "    dpi = 300\n",
    "    plt.savefig(full_fig_path, dpi=dpi, bbox_inches = \"tight\")\n",
    "    \n",
    "def save_fig(name, file_type='pdf'):\n",
    "    save_figure(name, local_fig_dir=\"misc\", file_type=file_type)\n",
    "    \n",
    "def convert_to_gbits(df):\n",
    "    df[\"bandwidth_gbits\"] = np.where(df['bandwidth_metric']=='Gbits/sec', df[\"bandwidth\"], df[\"bandwidth\"] / 1000)\n",
    "    return df"
   ]
  },
  {
   "cell_type": "code",
   "execution_count": 2,
   "id": "c06c8ea4",
   "metadata": {},
   "outputs": [],
   "source": [
    "exp_1_path = NETWORK_PATH + \"/experiment-set-1\"\n",
    "us_path   = exp_1_path + \"/1-5/iperf-profile-gc-t4-1-us.csv\"\n",
    "eu_path   = exp_1_path + \"/1-5/iperf-profile-gc-t4-5-eu.csv\"\n",
    "asia_path = exp_1_path + \"/1-5/iperf-profile-gc-t4-10-asia.csv\"\n",
    "aus_path  = exp_1_path + \"/1-5/iperf-profile-gc-t4-20-australia.csv\"\n",
    "\n",
    "exp_2_path = NETWORK_PATH + \"/experiment-set-2\"\n",
    "aws_gc_path = exp_2_path + \"/aws-gc/iperf-profile-aws-t4-2.csv\"\n",
    "gc_aws_path = exp_2_path + \"/aws-gc/iperf-profile-gc-t4-2.csv\"\n",
    "azure_gc_path = exp_2_path + \"/azure-gc/iperf-profile-azure-t4-2.csv\"\n",
    "gc_azure_path = exp_2_path + \"/azure-gc/iperf-profile-gc-t4-2.csv\"\n",
    "\n",
    "exp_3_path = NETWORK_PATH + \"/experiment-set-3\"\n",
    "rtx8000_eu_gc_path = exp_3_path + \"/3-P.0/iperf-profile-rtx8000.csv\"\n",
    "rtx8000_us_gc_path = exp_3_path + \"/3-P.1/iperf-profile-rtx8000.csv\"\n",
    "rtx8000_us_lambda_path = exp_3_path + \"/3-P.2/iperf-profile-rtx8000.csv\"\n",
    "v100_eu_gc_path = exp_3_path + \"/3-R.0/iperf-profile-8xv100.csv\"\n",
    "v100_us_gc_path = exp_3_path + \"/3-R.1/iperf-profile-8xv100.csv\"\n",
    "v100_us_lambda_path = exp_3_path + \"/3-R.2/iperf-profile-8xv100.csv\"\n",
    "\n",
    "exp_4_path = NETWORK_PATH + \"/experiment-set-4\"\n",
    "lambda_a10_path = exp_4_path + \"/iperf-profile-lambda-a10.csv\""
   ]
  },
  {
   "cell_type": "markdown",
   "id": "038a5270",
   "metadata": {},
   "source": [
    "### 1.1 US <-> US"
   ]
  },
  {
   "cell_type": "code",
   "execution_count": 3,
   "id": "987f2d19",
   "metadata": {},
   "outputs": [
    {
     "data": {
      "text/html": [
       "<div>\n",
       "<style scoped>\n",
       "    .dataframe tbody tr th:only-of-type {\n",
       "        vertical-align: middle;\n",
       "    }\n",
       "\n",
       "    .dataframe tbody tr th {\n",
       "        vertical-align: top;\n",
       "    }\n",
       "\n",
       "    .dataframe thead th {\n",
       "        text-align: right;\n",
       "    }\n",
       "</style>\n",
       "<table border=\"1\" class=\"dataframe\">\n",
       "  <thead>\n",
       "    <tr style=\"text-align: right;\">\n",
       "      <th></th>\n",
       "      <th>bandwidth</th>\n",
       "      <th>avg_ping_ms</th>\n",
       "      <th>bandwidth_gbits</th>\n",
       "    </tr>\n",
       "  </thead>\n",
       "  <tbody>\n",
       "    <tr>\n",
       "      <th>count</th>\n",
       "      <td>5.000000</td>\n",
       "      <td>5.000000</td>\n",
       "      <td>5.000000</td>\n",
       "    </tr>\n",
       "    <tr>\n",
       "      <th>mean</th>\n",
       "      <td>6.904000</td>\n",
       "      <td>0.659400</td>\n",
       "      <td>6.904000</td>\n",
       "    </tr>\n",
       "    <tr>\n",
       "      <th>std</th>\n",
       "      <td>0.021909</td>\n",
       "      <td>0.032005</td>\n",
       "      <td>0.021909</td>\n",
       "    </tr>\n",
       "  </tbody>\n",
       "</table>\n",
       "</div>"
      ],
      "text/plain": [
       "       bandwidth  avg_ping_ms  bandwidth_gbits\n",
       "count   5.000000     5.000000         5.000000\n",
       "mean    6.904000     0.659400         6.904000\n",
       "std     0.021909     0.032005         0.021909"
      ]
     },
     "execution_count": 3,
     "metadata": {},
     "output_type": "execute_result"
    }
   ],
   "source": [
    "us_df = convert_to_gbits(pd.read_csv(us_path))\n",
    "us_df.query(\"target_hostname == 'gc-t4-2'\").describe()[:3]"
   ]
  },
  {
   "cell_type": "markdown",
   "id": "38611646",
   "metadata": {},
   "source": [
    "### 1.2 US -> EU"
   ]
  },
  {
   "cell_type": "code",
   "execution_count": 4,
   "id": "e8a0577a",
   "metadata": {},
   "outputs": [
    {
     "data": {
      "text/html": [
       "<div>\n",
       "<style scoped>\n",
       "    .dataframe tbody tr th:only-of-type {\n",
       "        vertical-align: middle;\n",
       "    }\n",
       "\n",
       "    .dataframe tbody tr th {\n",
       "        vertical-align: top;\n",
       "    }\n",
       "\n",
       "    .dataframe thead th {\n",
       "        text-align: right;\n",
       "    }\n",
       "</style>\n",
       "<table border=\"1\" class=\"dataframe\">\n",
       "  <thead>\n",
       "    <tr style=\"text-align: right;\">\n",
       "      <th></th>\n",
       "      <th>bandwidth</th>\n",
       "      <th>avg_ping_ms</th>\n",
       "      <th>bandwidth_gbits</th>\n",
       "    </tr>\n",
       "  </thead>\n",
       "  <tbody>\n",
       "    <tr>\n",
       "      <th>count</th>\n",
       "      <td>10.0</td>\n",
       "      <td>10.000000</td>\n",
       "      <td>1.000000e+01</td>\n",
       "    </tr>\n",
       "    <tr>\n",
       "      <th>mean</th>\n",
       "      <td>210.0</td>\n",
       "      <td>103.110200</td>\n",
       "      <td>2.100000e-01</td>\n",
       "    </tr>\n",
       "    <tr>\n",
       "      <th>std</th>\n",
       "      <td>0.0</td>\n",
       "      <td>0.053187</td>\n",
       "      <td>2.925695e-17</td>\n",
       "    </tr>\n",
       "  </tbody>\n",
       "</table>\n",
       "</div>"
      ],
      "text/plain": [
       "       bandwidth  avg_ping_ms  bandwidth_gbits\n",
       "count       10.0    10.000000     1.000000e+01\n",
       "mean       210.0   103.110200     2.100000e-01\n",
       "std          0.0     0.053187     2.925695e-17"
      ]
     },
     "execution_count": 4,
     "metadata": {},
     "output_type": "execute_result"
    }
   ],
   "source": [
    "#us_df\n",
    "us_df.query(\"target_hostname == 'gc-t4-5' or target_hostname == 'gc-t4-6'\").describe()[:3]"
   ]
  },
  {
   "cell_type": "markdown",
   "id": "2dbb9272",
   "metadata": {},
   "source": [
    "### 1.3 US -> ASIA"
   ]
  },
  {
   "cell_type": "code",
   "execution_count": 5,
   "id": "d12e67ec",
   "metadata": {},
   "outputs": [
    {
     "data": {
      "text/html": [
       "<div>\n",
       "<style scoped>\n",
       "    .dataframe tbody tr th:only-of-type {\n",
       "        vertical-align: middle;\n",
       "    }\n",
       "\n",
       "    .dataframe tbody tr th {\n",
       "        vertical-align: top;\n",
       "    }\n",
       "\n",
       "    .dataframe thead th {\n",
       "        text-align: right;\n",
       "    }\n",
       "</style>\n",
       "<table border=\"1\" class=\"dataframe\">\n",
       "  <thead>\n",
       "    <tr style=\"text-align: right;\">\n",
       "      <th></th>\n",
       "      <th>bandwidth</th>\n",
       "      <th>avg_ping_ms</th>\n",
       "      <th>bandwidth_gbits</th>\n",
       "    </tr>\n",
       "  </thead>\n",
       "  <tbody>\n",
       "    <tr>\n",
       "      <th>count</th>\n",
       "      <td>10.000000</td>\n",
       "      <td>10.000000</td>\n",
       "      <td>10.000000</td>\n",
       "    </tr>\n",
       "    <tr>\n",
       "      <th>mean</th>\n",
       "      <td>133.600000</td>\n",
       "      <td>157.089800</td>\n",
       "      <td>0.133600</td>\n",
       "    </tr>\n",
       "    <tr>\n",
       "      <th>std</th>\n",
       "      <td>1.897367</td>\n",
       "      <td>0.102631</td>\n",
       "      <td>0.001897</td>\n",
       "    </tr>\n",
       "  </tbody>\n",
       "</table>\n",
       "</div>"
      ],
      "text/plain": [
       "        bandwidth  avg_ping_ms  bandwidth_gbits\n",
       "count   10.000000    10.000000        10.000000\n",
       "mean   133.600000   157.089800         0.133600\n",
       "std      1.897367     0.102631         0.001897"
      ]
     },
     "execution_count": 5,
     "metadata": {},
     "output_type": "execute_result"
    }
   ],
   "source": [
    "us_df.query(\"target_hostname == 'gc-t4-10' or target_hostname == 'gc-t4-11'\").describe()[:3]"
   ]
  },
  {
   "cell_type": "markdown",
   "id": "8b6f7b75",
   "metadata": {},
   "source": [
    "### 1.4 US -> AUS"
   ]
  },
  {
   "cell_type": "code",
   "execution_count": 6,
   "id": "233f3a38",
   "metadata": {},
   "outputs": [
    {
     "data": {
      "text/html": [
       "<div>\n",
       "<style scoped>\n",
       "    .dataframe tbody tr th:only-of-type {\n",
       "        vertical-align: middle;\n",
       "    }\n",
       "\n",
       "    .dataframe tbody tr th {\n",
       "        vertical-align: top;\n",
       "    }\n",
       "\n",
       "    .dataframe thead th {\n",
       "        text-align: right;\n",
       "    }\n",
       "</style>\n",
       "<table border=\"1\" class=\"dataframe\">\n",
       "  <thead>\n",
       "    <tr style=\"text-align: right;\">\n",
       "      <th></th>\n",
       "      <th>bandwidth</th>\n",
       "      <th>avg_ping_ms</th>\n",
       "      <th>bandwidth_gbits</th>\n",
       "    </tr>\n",
       "  </thead>\n",
       "  <tbody>\n",
       "    <tr>\n",
       "      <th>count</th>\n",
       "      <td>10.000000</td>\n",
       "      <td>10.000000</td>\n",
       "      <td>10.000000</td>\n",
       "    </tr>\n",
       "    <tr>\n",
       "      <th>mean</th>\n",
       "      <td>117.000000</td>\n",
       "      <td>176.195900</td>\n",
       "      <td>0.117000</td>\n",
       "    </tr>\n",
       "    <tr>\n",
       "      <th>std</th>\n",
       "      <td>1.825742</td>\n",
       "      <td>0.319867</td>\n",
       "      <td>0.001826</td>\n",
       "    </tr>\n",
       "  </tbody>\n",
       "</table>\n",
       "</div>"
      ],
      "text/plain": [
       "        bandwidth  avg_ping_ms  bandwidth_gbits\n",
       "count   10.000000    10.000000        10.000000\n",
       "mean   117.000000   176.195900         0.117000\n",
       "std      1.825742     0.319867         0.001826"
      ]
     },
     "execution_count": 6,
     "metadata": {},
     "output_type": "execute_result"
    }
   ],
   "source": [
    "us_df.query(\"target_hostname == 'gc-t4-20' or target_hostname == 'gc-t4-21'\").describe()[:3]"
   ]
  },
  {
   "cell_type": "markdown",
   "id": "584d0d99",
   "metadata": {},
   "source": [
    "### 2.1 EU -> US"
   ]
  },
  {
   "cell_type": "code",
   "execution_count": 7,
   "id": "9ee51ef9",
   "metadata": {
    "scrolled": false
   },
   "outputs": [
    {
     "data": {
      "text/html": [
       "<div>\n",
       "<style scoped>\n",
       "    .dataframe tbody tr th:only-of-type {\n",
       "        vertical-align: middle;\n",
       "    }\n",
       "\n",
       "    .dataframe tbody tr th {\n",
       "        vertical-align: top;\n",
       "    }\n",
       "\n",
       "    .dataframe thead th {\n",
       "        text-align: right;\n",
       "    }\n",
       "</style>\n",
       "<table border=\"1\" class=\"dataframe\">\n",
       "  <thead>\n",
       "    <tr style=\"text-align: right;\">\n",
       "      <th></th>\n",
       "      <th>bandwidth</th>\n",
       "      <th>avg_ping_ms</th>\n",
       "      <th>bandwidth_gbits</th>\n",
       "    </tr>\n",
       "  </thead>\n",
       "  <tbody>\n",
       "    <tr>\n",
       "      <th>count</th>\n",
       "      <td>10.000000</td>\n",
       "      <td>10.000000</td>\n",
       "      <td>10.000000</td>\n",
       "    </tr>\n",
       "    <tr>\n",
       "      <th>mean</th>\n",
       "      <td>214.500000</td>\n",
       "      <td>103.138000</td>\n",
       "      <td>0.214500</td>\n",
       "    </tr>\n",
       "    <tr>\n",
       "      <th>std</th>\n",
       "      <td>6.916165</td>\n",
       "      <td>0.071948</td>\n",
       "      <td>0.006916</td>\n",
       "    </tr>\n",
       "  </tbody>\n",
       "</table>\n",
       "</div>"
      ],
      "text/plain": [
       "        bandwidth  avg_ping_ms  bandwidth_gbits\n",
       "count   10.000000    10.000000        10.000000\n",
       "mean   214.500000   103.138000         0.214500\n",
       "std      6.916165     0.071948         0.006916"
      ]
     },
     "execution_count": 7,
     "metadata": {},
     "output_type": "execute_result"
    }
   ],
   "source": [
    "eu_df = convert_to_gbits(pd.read_csv(eu_path))\n",
    "eu_df.query(\"target_hostname == 'gc-t4-1' or target_hostname == 'gc-t4-2'\").describe()[:3]"
   ]
  },
  {
   "cell_type": "markdown",
   "id": "5ba6d503",
   "metadata": {},
   "source": [
    "### 2.2 EU -> EU"
   ]
  },
  {
   "cell_type": "code",
   "execution_count": 8,
   "id": "88edb2a3",
   "metadata": {
    "scrolled": true
   },
   "outputs": [
    {
     "data": {
      "text/html": [
       "<div>\n",
       "<style scoped>\n",
       "    .dataframe tbody tr th:only-of-type {\n",
       "        vertical-align: middle;\n",
       "    }\n",
       "\n",
       "    .dataframe tbody tr th {\n",
       "        vertical-align: top;\n",
       "    }\n",
       "\n",
       "    .dataframe thead th {\n",
       "        text-align: right;\n",
       "    }\n",
       "</style>\n",
       "<table border=\"1\" class=\"dataframe\">\n",
       "  <thead>\n",
       "    <tr style=\"text-align: right;\">\n",
       "      <th></th>\n",
       "      <th>bandwidth</th>\n",
       "      <th>avg_ping_ms</th>\n",
       "      <th>bandwidth_gbits</th>\n",
       "    </tr>\n",
       "  </thead>\n",
       "  <tbody>\n",
       "    <tr>\n",
       "      <th>count</th>\n",
       "      <td>5.000000</td>\n",
       "      <td>5.000000</td>\n",
       "      <td>5.000000</td>\n",
       "    </tr>\n",
       "    <tr>\n",
       "      <th>mean</th>\n",
       "      <td>6.816000</td>\n",
       "      <td>0.651400</td>\n",
       "      <td>6.816000</td>\n",
       "    </tr>\n",
       "    <tr>\n",
       "      <th>std</th>\n",
       "      <td>0.141704</td>\n",
       "      <td>0.025195</td>\n",
       "      <td>0.141704</td>\n",
       "    </tr>\n",
       "  </tbody>\n",
       "</table>\n",
       "</div>"
      ],
      "text/plain": [
       "       bandwidth  avg_ping_ms  bandwidth_gbits\n",
       "count   5.000000     5.000000         5.000000\n",
       "mean    6.816000     0.651400         6.816000\n",
       "std     0.141704     0.025195         0.141704"
      ]
     },
     "execution_count": 8,
     "metadata": {},
     "output_type": "execute_result"
    }
   ],
   "source": [
    "eu_df.query(\"target_hostname == 'gc-t4-6'\").describe()[:3]"
   ]
  },
  {
   "cell_type": "markdown",
   "id": "6a1d462f",
   "metadata": {},
   "source": [
    "### 2.3 EU -> ASIA"
   ]
  },
  {
   "cell_type": "code",
   "execution_count": 9,
   "id": "47d62b4c",
   "metadata": {},
   "outputs": [
    {
     "data": {
      "text/html": [
       "<div>\n",
       "<style scoped>\n",
       "    .dataframe tbody tr th:only-of-type {\n",
       "        vertical-align: middle;\n",
       "    }\n",
       "\n",
       "    .dataframe tbody tr th {\n",
       "        vertical-align: top;\n",
       "    }\n",
       "\n",
       "    .dataframe thead th {\n",
       "        text-align: right;\n",
       "    }\n",
       "</style>\n",
       "<table border=\"1\" class=\"dataframe\">\n",
       "  <thead>\n",
       "    <tr style=\"text-align: right;\">\n",
       "      <th></th>\n",
       "      <th>bandwidth</th>\n",
       "      <th>avg_ping_ms</th>\n",
       "      <th>bandwidth_gbits</th>\n",
       "    </tr>\n",
       "  </thead>\n",
       "  <tbody>\n",
       "    <tr>\n",
       "      <th>count</th>\n",
       "      <td>10.000000</td>\n",
       "      <td>10.000000</td>\n",
       "      <td>10.000000</td>\n",
       "    </tr>\n",
       "    <tr>\n",
       "      <th>mean</th>\n",
       "      <td>76.210000</td>\n",
       "      <td>253.097500</td>\n",
       "      <td>0.076210</td>\n",
       "    </tr>\n",
       "    <tr>\n",
       "      <th>std</th>\n",
       "      <td>1.494769</td>\n",
       "      <td>0.062351</td>\n",
       "      <td>0.001495</td>\n",
       "    </tr>\n",
       "  </tbody>\n",
       "</table>\n",
       "</div>"
      ],
      "text/plain": [
       "       bandwidth  avg_ping_ms  bandwidth_gbits\n",
       "count  10.000000    10.000000        10.000000\n",
       "mean   76.210000   253.097500         0.076210\n",
       "std     1.494769     0.062351         0.001495"
      ]
     },
     "execution_count": 9,
     "metadata": {},
     "output_type": "execute_result"
    }
   ],
   "source": [
    "eu_df.query(\"target_hostname == 'gc-t4-10' or target_hostname == 'gc-t4-11'\").describe()[:3]"
   ]
  },
  {
   "cell_type": "markdown",
   "id": "dbd81f76",
   "metadata": {},
   "source": [
    "### 2.4 EU -> AUS"
   ]
  },
  {
   "cell_type": "code",
   "execution_count": 10,
   "id": "ed9e2d35",
   "metadata": {
    "scrolled": true
   },
   "outputs": [
    {
     "data": {
      "text/html": [
       "<div>\n",
       "<style scoped>\n",
       "    .dataframe tbody tr th:only-of-type {\n",
       "        vertical-align: middle;\n",
       "    }\n",
       "\n",
       "    .dataframe tbody tr th {\n",
       "        vertical-align: top;\n",
       "    }\n",
       "\n",
       "    .dataframe thead th {\n",
       "        text-align: right;\n",
       "    }\n",
       "</style>\n",
       "<table border=\"1\" class=\"dataframe\">\n",
       "  <thead>\n",
       "    <tr style=\"text-align: right;\">\n",
       "      <th></th>\n",
       "      <th>bandwidth</th>\n",
       "      <th>avg_ping_ms</th>\n",
       "      <th>bandwidth_gbits</th>\n",
       "    </tr>\n",
       "  </thead>\n",
       "  <tbody>\n",
       "    <tr>\n",
       "      <th>count</th>\n",
       "      <td>10.00000</td>\n",
       "      <td>10.000000</td>\n",
       "      <td>10.000000</td>\n",
       "    </tr>\n",
       "    <tr>\n",
       "      <th>mean</th>\n",
       "      <td>69.34000</td>\n",
       "      <td>271.976300</td>\n",
       "      <td>0.069340</td>\n",
       "    </tr>\n",
       "    <tr>\n",
       "      <th>std</th>\n",
       "      <td>0.90701</td>\n",
       "      <td>0.304107</td>\n",
       "      <td>0.000907</td>\n",
       "    </tr>\n",
       "  </tbody>\n",
       "</table>\n",
       "</div>"
      ],
      "text/plain": [
       "       bandwidth  avg_ping_ms  bandwidth_gbits\n",
       "count   10.00000    10.000000        10.000000\n",
       "mean    69.34000   271.976300         0.069340\n",
       "std      0.90701     0.304107         0.000907"
      ]
     },
     "execution_count": 10,
     "metadata": {},
     "output_type": "execute_result"
    }
   ],
   "source": [
    "eu_df.query(\"target_hostname == 'gc-t4-20' or target_hostname == 'gc-t4-21'\").describe()[:3]"
   ]
  },
  {
   "cell_type": "markdown",
   "id": "8ccd7470",
   "metadata": {},
   "source": [
    "### 3.1 ASIA -> US"
   ]
  },
  {
   "cell_type": "code",
   "execution_count": 11,
   "id": "c2e34bc9",
   "metadata": {
    "scrolled": false
   },
   "outputs": [
    {
     "data": {
      "text/html": [
       "<div>\n",
       "<style scoped>\n",
       "    .dataframe tbody tr th:only-of-type {\n",
       "        vertical-align: middle;\n",
       "    }\n",
       "\n",
       "    .dataframe tbody tr th {\n",
       "        vertical-align: top;\n",
       "    }\n",
       "\n",
       "    .dataframe thead th {\n",
       "        text-align: right;\n",
       "    }\n",
       "</style>\n",
       "<table border=\"1\" class=\"dataframe\">\n",
       "  <thead>\n",
       "    <tr style=\"text-align: right;\">\n",
       "      <th></th>\n",
       "      <th>bandwidth</th>\n",
       "      <th>avg_ping_ms</th>\n",
       "      <th>bandwidth_gbits</th>\n",
       "    </tr>\n",
       "  </thead>\n",
       "  <tbody>\n",
       "    <tr>\n",
       "      <th>count</th>\n",
       "      <td>10.000000</td>\n",
       "      <td>10.000000</td>\n",
       "      <td>10.000000</td>\n",
       "    </tr>\n",
       "    <tr>\n",
       "      <th>mean</th>\n",
       "      <td>133.400000</td>\n",
       "      <td>157.078100</td>\n",
       "      <td>0.133400</td>\n",
       "    </tr>\n",
       "    <tr>\n",
       "      <th>std</th>\n",
       "      <td>3.062316</td>\n",
       "      <td>0.058605</td>\n",
       "      <td>0.003062</td>\n",
       "    </tr>\n",
       "  </tbody>\n",
       "</table>\n",
       "</div>"
      ],
      "text/plain": [
       "        bandwidth  avg_ping_ms  bandwidth_gbits\n",
       "count   10.000000    10.000000        10.000000\n",
       "mean   133.400000   157.078100         0.133400\n",
       "std      3.062316     0.058605         0.003062"
      ]
     },
     "execution_count": 11,
     "metadata": {},
     "output_type": "execute_result"
    }
   ],
   "source": [
    "asia_df = convert_to_gbits(pd.read_csv(asia_path))\n",
    "asia_df.query(\"target_hostname == 'gc-t4-1' or target_hostname == 'gc-t4-2'\").describe()[:3]"
   ]
  },
  {
   "cell_type": "markdown",
   "id": "fe38d394",
   "metadata": {},
   "source": [
    "### 3.2 ASIA -> EU"
   ]
  },
  {
   "cell_type": "code",
   "execution_count": 12,
   "id": "dde626ee",
   "metadata": {
    "scrolled": true
   },
   "outputs": [
    {
     "data": {
      "text/html": [
       "<div>\n",
       "<style scoped>\n",
       "    .dataframe tbody tr th:only-of-type {\n",
       "        vertical-align: middle;\n",
       "    }\n",
       "\n",
       "    .dataframe tbody tr th {\n",
       "        vertical-align: top;\n",
       "    }\n",
       "\n",
       "    .dataframe thead th {\n",
       "        text-align: right;\n",
       "    }\n",
       "</style>\n",
       "<table border=\"1\" class=\"dataframe\">\n",
       "  <thead>\n",
       "    <tr style=\"text-align: right;\">\n",
       "      <th></th>\n",
       "      <th>bandwidth</th>\n",
       "      <th>avg_ping_ms</th>\n",
       "      <th>bandwidth_gbits</th>\n",
       "    </tr>\n",
       "  </thead>\n",
       "  <tbody>\n",
       "    <tr>\n",
       "      <th>count</th>\n",
       "      <td>10.00000</td>\n",
       "      <td>10.000000</td>\n",
       "      <td>10.000000</td>\n",
       "    </tr>\n",
       "    <tr>\n",
       "      <th>mean</th>\n",
       "      <td>75.97000</td>\n",
       "      <td>253.095100</td>\n",
       "      <td>0.075970</td>\n",
       "    </tr>\n",
       "    <tr>\n",
       "      <th>std</th>\n",
       "      <td>0.30203</td>\n",
       "      <td>0.048147</td>\n",
       "      <td>0.000302</td>\n",
       "    </tr>\n",
       "  </tbody>\n",
       "</table>\n",
       "</div>"
      ],
      "text/plain": [
       "       bandwidth  avg_ping_ms  bandwidth_gbits\n",
       "count   10.00000    10.000000        10.000000\n",
       "mean    75.97000   253.095100         0.075970\n",
       "std      0.30203     0.048147         0.000302"
      ]
     },
     "execution_count": 12,
     "metadata": {},
     "output_type": "execute_result"
    }
   ],
   "source": [
    "asia_df.query(\"target_hostname == 'gc-t4-5' or target_hostname == 'gc-t4-6'\").describe()[:3]"
   ]
  },
  {
   "cell_type": "markdown",
   "id": "5d02b545",
   "metadata": {},
   "source": [
    "### 3.3 ASIA -> ASIA"
   ]
  },
  {
   "cell_type": "code",
   "execution_count": 13,
   "id": "1abf790d",
   "metadata": {},
   "outputs": [
    {
     "data": {
      "text/html": [
       "<div>\n",
       "<style scoped>\n",
       "    .dataframe tbody tr th:only-of-type {\n",
       "        vertical-align: middle;\n",
       "    }\n",
       "\n",
       "    .dataframe tbody tr th {\n",
       "        vertical-align: top;\n",
       "    }\n",
       "\n",
       "    .dataframe thead th {\n",
       "        text-align: right;\n",
       "    }\n",
       "</style>\n",
       "<table border=\"1\" class=\"dataframe\">\n",
       "  <thead>\n",
       "    <tr style=\"text-align: right;\">\n",
       "      <th></th>\n",
       "      <th>bandwidth</th>\n",
       "      <th>avg_ping_ms</th>\n",
       "      <th>bandwidth_gbits</th>\n",
       "    </tr>\n",
       "  </thead>\n",
       "  <tbody>\n",
       "    <tr>\n",
       "      <th>count</th>\n",
       "      <td>5.000000</td>\n",
       "      <td>5.000000</td>\n",
       "      <td>5.000000</td>\n",
       "    </tr>\n",
       "    <tr>\n",
       "      <th>mean</th>\n",
       "      <td>6.786000</td>\n",
       "      <td>0.717600</td>\n",
       "      <td>6.786000</td>\n",
       "    </tr>\n",
       "    <tr>\n",
       "      <th>std</th>\n",
       "      <td>0.129923</td>\n",
       "      <td>0.068984</td>\n",
       "      <td>0.129923</td>\n",
       "    </tr>\n",
       "  </tbody>\n",
       "</table>\n",
       "</div>"
      ],
      "text/plain": [
       "       bandwidth  avg_ping_ms  bandwidth_gbits\n",
       "count   5.000000     5.000000         5.000000\n",
       "mean    6.786000     0.717600         6.786000\n",
       "std     0.129923     0.068984         0.129923"
      ]
     },
     "execution_count": 13,
     "metadata": {},
     "output_type": "execute_result"
    }
   ],
   "source": [
    "asia_df.query(\"target_hostname == 'gc-t4-10' or target_hostname == 'gc-t4-11'\").describe()[:3]"
   ]
  },
  {
   "cell_type": "markdown",
   "id": "c365d995",
   "metadata": {},
   "source": [
    "### 3.4 ASIA -> AUS"
   ]
  },
  {
   "cell_type": "code",
   "execution_count": 14,
   "id": "40d7b873",
   "metadata": {
    "scrolled": false
   },
   "outputs": [
    {
     "data": {
      "text/html": [
       "<div>\n",
       "<style scoped>\n",
       "    .dataframe tbody tr th:only-of-type {\n",
       "        vertical-align: middle;\n",
       "    }\n",
       "\n",
       "    .dataframe tbody tr th {\n",
       "        vertical-align: top;\n",
       "    }\n",
       "\n",
       "    .dataframe thead th {\n",
       "        text-align: right;\n",
       "    }\n",
       "</style>\n",
       "<table border=\"1\" class=\"dataframe\">\n",
       "  <thead>\n",
       "    <tr style=\"text-align: right;\">\n",
       "      <th></th>\n",
       "      <th>bandwidth</th>\n",
       "      <th>avg_ping_ms</th>\n",
       "      <th>bandwidth_gbits</th>\n",
       "    </tr>\n",
       "  </thead>\n",
       "  <tbody>\n",
       "    <tr>\n",
       "      <th>count</th>\n",
       "      <td>10.000000</td>\n",
       "      <td>10.000000</td>\n",
       "      <td>10.00000</td>\n",
       "    </tr>\n",
       "    <tr>\n",
       "      <th>mean</th>\n",
       "      <td>163.100000</td>\n",
       "      <td>131.450800</td>\n",
       "      <td>0.16310</td>\n",
       "    </tr>\n",
       "    <tr>\n",
       "      <th>std</th>\n",
       "      <td>4.040077</td>\n",
       "      <td>0.423063</td>\n",
       "      <td>0.00404</td>\n",
       "    </tr>\n",
       "  </tbody>\n",
       "</table>\n",
       "</div>"
      ],
      "text/plain": [
       "        bandwidth  avg_ping_ms  bandwidth_gbits\n",
       "count   10.000000    10.000000         10.00000\n",
       "mean   163.100000   131.450800          0.16310\n",
       "std      4.040077     0.423063          0.00404"
      ]
     },
     "execution_count": 14,
     "metadata": {},
     "output_type": "execute_result"
    }
   ],
   "source": [
    "asia_df.query(\"target_hostname == 'gc-t4-20' or target_hostname == 'gc-t4-21'\").describe()[:3]"
   ]
  },
  {
   "cell_type": "markdown",
   "id": "4fa7e195",
   "metadata": {},
   "source": [
    "### 4.1 AUS -> US"
   ]
  },
  {
   "cell_type": "code",
   "execution_count": 15,
   "id": "133ac088",
   "metadata": {
    "scrolled": false
   },
   "outputs": [
    {
     "data": {
      "text/html": [
       "<div>\n",
       "<style scoped>\n",
       "    .dataframe tbody tr th:only-of-type {\n",
       "        vertical-align: middle;\n",
       "    }\n",
       "\n",
       "    .dataframe tbody tr th {\n",
       "        vertical-align: top;\n",
       "    }\n",
       "\n",
       "    .dataframe thead th {\n",
       "        text-align: right;\n",
       "    }\n",
       "</style>\n",
       "<table border=\"1\" class=\"dataframe\">\n",
       "  <thead>\n",
       "    <tr style=\"text-align: right;\">\n",
       "      <th></th>\n",
       "      <th>bandwidth</th>\n",
       "      <th>avg_ping_ms</th>\n",
       "      <th>bandwidth_gbits</th>\n",
       "    </tr>\n",
       "  </thead>\n",
       "  <tbody>\n",
       "    <tr>\n",
       "      <th>count</th>\n",
       "      <td>10.000000</td>\n",
       "      <td>10.000000</td>\n",
       "      <td>10.000000</td>\n",
       "    </tr>\n",
       "    <tr>\n",
       "      <th>mean</th>\n",
       "      <td>119.300000</td>\n",
       "      <td>175.976400</td>\n",
       "      <td>0.119300</td>\n",
       "    </tr>\n",
       "    <tr>\n",
       "      <th>std</th>\n",
       "      <td>3.529243</td>\n",
       "      <td>0.264434</td>\n",
       "      <td>0.003529</td>\n",
       "    </tr>\n",
       "  </tbody>\n",
       "</table>\n",
       "</div>"
      ],
      "text/plain": [
       "        bandwidth  avg_ping_ms  bandwidth_gbits\n",
       "count   10.000000    10.000000        10.000000\n",
       "mean   119.300000   175.976400         0.119300\n",
       "std      3.529243     0.264434         0.003529"
      ]
     },
     "execution_count": 15,
     "metadata": {},
     "output_type": "execute_result"
    }
   ],
   "source": [
    "aus_df = convert_to_gbits(pd.read_csv(aus_path))\n",
    "aus_df.query(\"target_hostname == 'gc-t4-1' or target_hostname == 'gc-t4-2'\").describe()[:3]"
   ]
  },
  {
   "cell_type": "markdown",
   "id": "b05cdf44",
   "metadata": {},
   "source": [
    "### 4.2 AUS -> EU"
   ]
  },
  {
   "cell_type": "code",
   "execution_count": 16,
   "id": "8aa4a171",
   "metadata": {
    "scrolled": true
   },
   "outputs": [
    {
     "data": {
      "text/html": [
       "<div>\n",
       "<style scoped>\n",
       "    .dataframe tbody tr th:only-of-type {\n",
       "        vertical-align: middle;\n",
       "    }\n",
       "\n",
       "    .dataframe tbody tr th {\n",
       "        vertical-align: top;\n",
       "    }\n",
       "\n",
       "    .dataframe thead th {\n",
       "        text-align: right;\n",
       "    }\n",
       "</style>\n",
       "<table border=\"1\" class=\"dataframe\">\n",
       "  <thead>\n",
       "    <tr style=\"text-align: right;\">\n",
       "      <th></th>\n",
       "      <th>bandwidth</th>\n",
       "      <th>avg_ping_ms</th>\n",
       "      <th>bandwidth_gbits</th>\n",
       "    </tr>\n",
       "  </thead>\n",
       "  <tbody>\n",
       "    <tr>\n",
       "      <th>count</th>\n",
       "      <td>10.000000</td>\n",
       "      <td>10.00000</td>\n",
       "      <td>10.00000</td>\n",
       "    </tr>\n",
       "    <tr>\n",
       "      <th>mean</th>\n",
       "      <td>69.430000</td>\n",
       "      <td>272.08050</td>\n",
       "      <td>0.06943</td>\n",
       "    </tr>\n",
       "    <tr>\n",
       "      <th>std</th>\n",
       "      <td>0.860297</td>\n",
       "      <td>0.13304</td>\n",
       "      <td>0.00086</td>\n",
       "    </tr>\n",
       "  </tbody>\n",
       "</table>\n",
       "</div>"
      ],
      "text/plain": [
       "       bandwidth  avg_ping_ms  bandwidth_gbits\n",
       "count  10.000000     10.00000         10.00000\n",
       "mean   69.430000    272.08050          0.06943\n",
       "std     0.860297      0.13304          0.00086"
      ]
     },
     "execution_count": 16,
     "metadata": {},
     "output_type": "execute_result"
    }
   ],
   "source": [
    "aus_df.query(\"target_hostname == 'gc-t4-5' or target_hostname == 'gc-t4-6'\").describe()[:3]"
   ]
  },
  {
   "cell_type": "markdown",
   "id": "40703ec3",
   "metadata": {},
   "source": [
    "### 4.3 AUS -> ASIA"
   ]
  },
  {
   "cell_type": "code",
   "execution_count": 17,
   "id": "8285ab47",
   "metadata": {},
   "outputs": [
    {
     "data": {
      "text/html": [
       "<div>\n",
       "<style scoped>\n",
       "    .dataframe tbody tr th:only-of-type {\n",
       "        vertical-align: middle;\n",
       "    }\n",
       "\n",
       "    .dataframe tbody tr th {\n",
       "        vertical-align: top;\n",
       "    }\n",
       "\n",
       "    .dataframe thead th {\n",
       "        text-align: right;\n",
       "    }\n",
       "</style>\n",
       "<table border=\"1\" class=\"dataframe\">\n",
       "  <thead>\n",
       "    <tr style=\"text-align: right;\">\n",
       "      <th></th>\n",
       "      <th>bandwidth</th>\n",
       "      <th>avg_ping_ms</th>\n",
       "      <th>bandwidth_gbits</th>\n",
       "    </tr>\n",
       "  </thead>\n",
       "  <tbody>\n",
       "    <tr>\n",
       "      <th>count</th>\n",
       "      <td>10.000000</td>\n",
       "      <td>10.000000</td>\n",
       "      <td>10.000000</td>\n",
       "    </tr>\n",
       "    <tr>\n",
       "      <th>mean</th>\n",
       "      <td>162.500000</td>\n",
       "      <td>131.418400</td>\n",
       "      <td>0.162500</td>\n",
       "    </tr>\n",
       "    <tr>\n",
       "      <th>std</th>\n",
       "      <td>3.064129</td>\n",
       "      <td>0.407142</td>\n",
       "      <td>0.003064</td>\n",
       "    </tr>\n",
       "  </tbody>\n",
       "</table>\n",
       "</div>"
      ],
      "text/plain": [
       "        bandwidth  avg_ping_ms  bandwidth_gbits\n",
       "count   10.000000    10.000000        10.000000\n",
       "mean   162.500000   131.418400         0.162500\n",
       "std      3.064129     0.407142         0.003064"
      ]
     },
     "execution_count": 17,
     "metadata": {},
     "output_type": "execute_result"
    }
   ],
   "source": [
    "aus_df.query(\"target_hostname == 'gc-t4-10' or target_hostname == 'gc-t4-11'\").describe()[:3]"
   ]
  },
  {
   "cell_type": "markdown",
   "id": "618357ce",
   "metadata": {},
   "source": [
    "### 4.4 AUS -> AUS"
   ]
  },
  {
   "cell_type": "code",
   "execution_count": 18,
   "id": "c0c7d7f3",
   "metadata": {
    "scrolled": false
   },
   "outputs": [
    {
     "data": {
      "text/html": [
       "<div>\n",
       "<style scoped>\n",
       "    .dataframe tbody tr th:only-of-type {\n",
       "        vertical-align: middle;\n",
       "    }\n",
       "\n",
       "    .dataframe tbody tr th {\n",
       "        vertical-align: top;\n",
       "    }\n",
       "\n",
       "    .dataframe thead th {\n",
       "        text-align: right;\n",
       "    }\n",
       "</style>\n",
       "<table border=\"1\" class=\"dataframe\">\n",
       "  <thead>\n",
       "    <tr style=\"text-align: right;\">\n",
       "      <th></th>\n",
       "      <th>bandwidth</th>\n",
       "      <th>avg_ping_ms</th>\n",
       "      <th>bandwidth_gbits</th>\n",
       "    </tr>\n",
       "  </thead>\n",
       "  <tbody>\n",
       "    <tr>\n",
       "      <th>count</th>\n",
       "      <td>5.000000</td>\n",
       "      <td>5.00000</td>\n",
       "      <td>5.000000</td>\n",
       "    </tr>\n",
       "    <tr>\n",
       "      <th>mean</th>\n",
       "      <td>6.840000</td>\n",
       "      <td>0.63900</td>\n",
       "      <td>6.840000</td>\n",
       "    </tr>\n",
       "    <tr>\n",
       "      <th>std</th>\n",
       "      <td>0.099499</td>\n",
       "      <td>0.03389</td>\n",
       "      <td>0.099499</td>\n",
       "    </tr>\n",
       "  </tbody>\n",
       "</table>\n",
       "</div>"
      ],
      "text/plain": [
       "       bandwidth  avg_ping_ms  bandwidth_gbits\n",
       "count   5.000000      5.00000         5.000000\n",
       "mean    6.840000      0.63900         6.840000\n",
       "std     0.099499      0.03389         0.099499"
      ]
     },
     "execution_count": 18,
     "metadata": {},
     "output_type": "execute_result"
    }
   ],
   "source": [
    "aus_df.query(\"target_hostname == 'gc-t4-21'\").describe()[:3]"
   ]
  },
  {
   "cell_type": "markdown",
   "id": "44662838",
   "metadata": {},
   "source": [
    "# MULTI-CLOUD Experiments"
   ]
  },
  {
   "cell_type": "markdown",
   "id": "180cd10e",
   "metadata": {},
   "source": [
    "### 5.1 AWS -> GC"
   ]
  },
  {
   "cell_type": "code",
   "execution_count": 19,
   "id": "5281a6e6",
   "metadata": {},
   "outputs": [
    {
     "data": {
      "text/html": [
       "<div>\n",
       "<style scoped>\n",
       "    .dataframe tbody tr th:only-of-type {\n",
       "        vertical-align: middle;\n",
       "    }\n",
       "\n",
       "    .dataframe tbody tr th {\n",
       "        vertical-align: top;\n",
       "    }\n",
       "\n",
       "    .dataframe thead th {\n",
       "        text-align: right;\n",
       "    }\n",
       "</style>\n",
       "<table border=\"1\" class=\"dataframe\">\n",
       "  <thead>\n",
       "    <tr style=\"text-align: right;\">\n",
       "      <th></th>\n",
       "      <th>bandwidth</th>\n",
       "      <th>avg_ping_ms</th>\n",
       "      <th>bandwidth_gbits</th>\n",
       "    </tr>\n",
       "  </thead>\n",
       "  <tbody>\n",
       "    <tr>\n",
       "      <th>count</th>\n",
       "      <td>5.000000</td>\n",
       "      <td>5.000000</td>\n",
       "      <td>5.000000</td>\n",
       "    </tr>\n",
       "    <tr>\n",
       "      <th>mean</th>\n",
       "      <td>1.808000</td>\n",
       "      <td>13.854000</td>\n",
       "      <td>1.808000</td>\n",
       "    </tr>\n",
       "    <tr>\n",
       "      <th>std</th>\n",
       "      <td>0.154499</td>\n",
       "      <td>0.981411</td>\n",
       "      <td>0.154499</td>\n",
       "    </tr>\n",
       "  </tbody>\n",
       "</table>\n",
       "</div>"
      ],
      "text/plain": [
       "       bandwidth  avg_ping_ms  bandwidth_gbits\n",
       "count   5.000000     5.000000         5.000000\n",
       "mean    1.808000    13.854000         1.808000\n",
       "std     0.154499     0.981411         0.154499"
      ]
     },
     "execution_count": 19,
     "metadata": {},
     "output_type": "execute_result"
    }
   ],
   "source": [
    "aws_gc_df = convert_to_gbits(pd.read_csv(aws_gc_path))\n",
    "aws_gc_df.query(\"target_hostname == 'gc-t4-1'\").describe()[:3]"
   ]
  },
  {
   "cell_type": "markdown",
   "id": "e8fa954b",
   "metadata": {},
   "source": [
    "### 5.2 AWS -> AWS"
   ]
  },
  {
   "cell_type": "code",
   "execution_count": 20,
   "id": "bac96862",
   "metadata": {},
   "outputs": [
    {
     "data": {
      "text/html": [
       "<div>\n",
       "<style scoped>\n",
       "    .dataframe tbody tr th:only-of-type {\n",
       "        vertical-align: middle;\n",
       "    }\n",
       "\n",
       "    .dataframe tbody tr th {\n",
       "        vertical-align: top;\n",
       "    }\n",
       "\n",
       "    .dataframe thead th {\n",
       "        text-align: right;\n",
       "    }\n",
       "</style>\n",
       "<table border=\"1\" class=\"dataframe\">\n",
       "  <thead>\n",
       "    <tr style=\"text-align: right;\">\n",
       "      <th></th>\n",
       "      <th>bandwidth</th>\n",
       "      <th>avg_ping_ms</th>\n",
       "      <th>bandwidth_gbits</th>\n",
       "    </tr>\n",
       "  </thead>\n",
       "  <tbody>\n",
       "    <tr>\n",
       "      <th>count</th>\n",
       "      <td>5.00</td>\n",
       "      <td>5.000000</td>\n",
       "      <td>5.00</td>\n",
       "    </tr>\n",
       "    <tr>\n",
       "      <th>mean</th>\n",
       "      <td>4.78</td>\n",
       "      <td>0.151800</td>\n",
       "      <td>4.78</td>\n",
       "    </tr>\n",
       "    <tr>\n",
       "      <th>std</th>\n",
       "      <td>0.00</td>\n",
       "      <td>0.008044</td>\n",
       "      <td>0.00</td>\n",
       "    </tr>\n",
       "  </tbody>\n",
       "</table>\n",
       "</div>"
      ],
      "text/plain": [
       "       bandwidth  avg_ping_ms  bandwidth_gbits\n",
       "count       5.00     5.000000             5.00\n",
       "mean        4.78     0.151800             4.78\n",
       "std         0.00     0.008044             0.00"
      ]
     },
     "execution_count": 20,
     "metadata": {},
     "output_type": "execute_result"
    }
   ],
   "source": [
    "aws_gc_df.query(\"target_hostname == 'aws-t4-1'\").describe()[:3]"
   ]
  },
  {
   "cell_type": "markdown",
   "id": "a6c5994b",
   "metadata": {},
   "source": [
    "### 5.3 GC -> AWS"
   ]
  },
  {
   "cell_type": "code",
   "execution_count": 21,
   "id": "63be2276",
   "metadata": {},
   "outputs": [
    {
     "data": {
      "text/html": [
       "<div>\n",
       "<style scoped>\n",
       "    .dataframe tbody tr th:only-of-type {\n",
       "        vertical-align: middle;\n",
       "    }\n",
       "\n",
       "    .dataframe tbody tr th {\n",
       "        vertical-align: top;\n",
       "    }\n",
       "\n",
       "    .dataframe thead th {\n",
       "        text-align: right;\n",
       "    }\n",
       "</style>\n",
       "<table border=\"1\" class=\"dataframe\">\n",
       "  <thead>\n",
       "    <tr style=\"text-align: right;\">\n",
       "      <th></th>\n",
       "      <th>bandwidth</th>\n",
       "      <th>avg_ping_ms</th>\n",
       "      <th>bandwidth_gbits</th>\n",
       "    </tr>\n",
       "  </thead>\n",
       "  <tbody>\n",
       "    <tr>\n",
       "      <th>count</th>\n",
       "      <td>5.000000</td>\n",
       "      <td>5.000000</td>\n",
       "      <td>5.000000</td>\n",
       "    </tr>\n",
       "    <tr>\n",
       "      <th>mean</th>\n",
       "      <td>1.520000</td>\n",
       "      <td>15.315200</td>\n",
       "      <td>1.520000</td>\n",
       "    </tr>\n",
       "    <tr>\n",
       "      <th>std</th>\n",
       "      <td>0.219203</td>\n",
       "      <td>1.079417</td>\n",
       "      <td>0.219203</td>\n",
       "    </tr>\n",
       "  </tbody>\n",
       "</table>\n",
       "</div>"
      ],
      "text/plain": [
       "       bandwidth  avg_ping_ms  bandwidth_gbits\n",
       "count   5.000000     5.000000         5.000000\n",
       "mean    1.520000    15.315200         1.520000\n",
       "std     0.219203     1.079417         0.219203"
      ]
     },
     "execution_count": 21,
     "metadata": {},
     "output_type": "execute_result"
    }
   ],
   "source": [
    "gc_aws_df = convert_to_gbits(pd.read_csv(gc_aws_path))\n",
    "gc_aws_df.query(\"target_hostname == 'aws-t4-1'\").describe()[:3]"
   ]
  },
  {
   "cell_type": "markdown",
   "id": "69f9b2a7",
   "metadata": {},
   "source": [
    "### 5.4 GC -> GC"
   ]
  },
  {
   "cell_type": "code",
   "execution_count": 22,
   "id": "ec39c811",
   "metadata": {},
   "outputs": [
    {
     "data": {
      "text/html": [
       "<div>\n",
       "<style scoped>\n",
       "    .dataframe tbody tr th:only-of-type {\n",
       "        vertical-align: middle;\n",
       "    }\n",
       "\n",
       "    .dataframe tbody tr th {\n",
       "        vertical-align: top;\n",
       "    }\n",
       "\n",
       "    .dataframe thead th {\n",
       "        text-align: right;\n",
       "    }\n",
       "</style>\n",
       "<table border=\"1\" class=\"dataframe\">\n",
       "  <thead>\n",
       "    <tr style=\"text-align: right;\">\n",
       "      <th></th>\n",
       "      <th>bandwidth</th>\n",
       "      <th>avg_ping_ms</th>\n",
       "      <th>bandwidth_gbits</th>\n",
       "    </tr>\n",
       "  </thead>\n",
       "  <tbody>\n",
       "    <tr>\n",
       "      <th>count</th>\n",
       "      <td>5.000000</td>\n",
       "      <td>5.000000</td>\n",
       "      <td>5.000000</td>\n",
       "    </tr>\n",
       "    <tr>\n",
       "      <th>mean</th>\n",
       "      <td>6.352000</td>\n",
       "      <td>0.713800</td>\n",
       "      <td>6.352000</td>\n",
       "    </tr>\n",
       "    <tr>\n",
       "      <th>std</th>\n",
       "      <td>0.782381</td>\n",
       "      <td>0.017541</td>\n",
       "      <td>0.782381</td>\n",
       "    </tr>\n",
       "  </tbody>\n",
       "</table>\n",
       "</div>"
      ],
      "text/plain": [
       "       bandwidth  avg_ping_ms  bandwidth_gbits\n",
       "count   5.000000     5.000000         5.000000\n",
       "mean    6.352000     0.713800         6.352000\n",
       "std     0.782381     0.017541         0.782381"
      ]
     },
     "execution_count": 22,
     "metadata": {},
     "output_type": "execute_result"
    }
   ],
   "source": [
    "gc_aws_df.query(\"target_hostname == 'gc-t4-1'\").describe()[:3]"
   ]
  },
  {
   "cell_type": "markdown",
   "id": "6003e9d1",
   "metadata": {},
   "source": [
    "### 5.5 Azure -> GC"
   ]
  },
  {
   "cell_type": "code",
   "execution_count": 23,
   "id": "b8a13f8c",
   "metadata": {},
   "outputs": [
    {
     "data": {
      "text/html": [
       "<div>\n",
       "<style scoped>\n",
       "    .dataframe tbody tr th:only-of-type {\n",
       "        vertical-align: middle;\n",
       "    }\n",
       "\n",
       "    .dataframe tbody tr th {\n",
       "        vertical-align: top;\n",
       "    }\n",
       "\n",
       "    .dataframe thead th {\n",
       "        text-align: right;\n",
       "    }\n",
       "</style>\n",
       "<table border=\"1\" class=\"dataframe\">\n",
       "  <thead>\n",
       "    <tr style=\"text-align: right;\">\n",
       "      <th></th>\n",
       "      <th>bandwidth</th>\n",
       "      <th>avg_ping_ms</th>\n",
       "      <th>bandwidth_gbits</th>\n",
       "    </tr>\n",
       "  </thead>\n",
       "  <tbody>\n",
       "    <tr>\n",
       "      <th>count</th>\n",
       "      <td>5.000000</td>\n",
       "      <td>5.000000</td>\n",
       "      <td>5.00000</td>\n",
       "    </tr>\n",
       "    <tr>\n",
       "      <th>mean</th>\n",
       "      <td>472.000000</td>\n",
       "      <td>49.806200</td>\n",
       "      <td>0.47200</td>\n",
       "    </tr>\n",
       "    <tr>\n",
       "      <th>std</th>\n",
       "      <td>10.049876</td>\n",
       "      <td>0.041758</td>\n",
       "      <td>0.01005</td>\n",
       "    </tr>\n",
       "  </tbody>\n",
       "</table>\n",
       "</div>"
      ],
      "text/plain": [
       "        bandwidth  avg_ping_ms  bandwidth_gbits\n",
       "count    5.000000     5.000000          5.00000\n",
       "mean   472.000000    49.806200          0.47200\n",
       "std     10.049876     0.041758          0.01005"
      ]
     },
     "execution_count": 23,
     "metadata": {},
     "output_type": "execute_result"
    }
   ],
   "source": [
    "azure_gc_df = convert_to_gbits(pd.read_csv(azure_gc_path))\n",
    "azure_gc_df.query(\"target_hostname == 'gc-t4-1'\").describe()[:3]"
   ]
  },
  {
   "cell_type": "markdown",
   "id": "b49234f8",
   "metadata": {},
   "source": [
    "### 5.6 Azure -> Azure"
   ]
  },
  {
   "cell_type": "code",
   "execution_count": 24,
   "id": "a253d6a4",
   "metadata": {},
   "outputs": [
    {
     "data": {
      "text/html": [
       "<div>\n",
       "<style scoped>\n",
       "    .dataframe tbody tr th:only-of-type {\n",
       "        vertical-align: middle;\n",
       "    }\n",
       "\n",
       "    .dataframe tbody tr th {\n",
       "        vertical-align: top;\n",
       "    }\n",
       "\n",
       "    .dataframe thead th {\n",
       "        text-align: right;\n",
       "    }\n",
       "</style>\n",
       "<table border=\"1\" class=\"dataframe\">\n",
       "  <thead>\n",
       "    <tr style=\"text-align: right;\">\n",
       "      <th></th>\n",
       "      <th>bandwidth</th>\n",
       "      <th>avg_ping_ms</th>\n",
       "      <th>bandwidth_gbits</th>\n",
       "    </tr>\n",
       "  </thead>\n",
       "  <tbody>\n",
       "    <tr>\n",
       "      <th>count</th>\n",
       "      <td>5.000000</td>\n",
       "      <td>5.000000</td>\n",
       "      <td>5.000000</td>\n",
       "    </tr>\n",
       "    <tr>\n",
       "      <th>mean</th>\n",
       "      <td>7.628000</td>\n",
       "      <td>1.557400</td>\n",
       "      <td>7.628000</td>\n",
       "    </tr>\n",
       "    <tr>\n",
       "      <th>std</th>\n",
       "      <td>0.008367</td>\n",
       "      <td>0.031501</td>\n",
       "      <td>0.008367</td>\n",
       "    </tr>\n",
       "  </tbody>\n",
       "</table>\n",
       "</div>"
      ],
      "text/plain": [
       "       bandwidth  avg_ping_ms  bandwidth_gbits\n",
       "count   5.000000     5.000000         5.000000\n",
       "mean    7.628000     1.557400         7.628000\n",
       "std     0.008367     0.031501         0.008367"
      ]
     },
     "execution_count": 24,
     "metadata": {},
     "output_type": "execute_result"
    }
   ],
   "source": [
    "azure_gc_df.query(\"target_hostname == 'azure-t4-1'\").describe()[:3]"
   ]
  },
  {
   "cell_type": "markdown",
   "id": "2c217aff",
   "metadata": {},
   "source": [
    "### 5.7 GC -> Azure"
   ]
  },
  {
   "cell_type": "code",
   "execution_count": 25,
   "id": "9b79ce02",
   "metadata": {},
   "outputs": [
    {
     "data": {
      "text/html": [
       "<div>\n",
       "<style scoped>\n",
       "    .dataframe tbody tr th:only-of-type {\n",
       "        vertical-align: middle;\n",
       "    }\n",
       "\n",
       "    .dataframe tbody tr th {\n",
       "        vertical-align: top;\n",
       "    }\n",
       "\n",
       "    .dataframe thead th {\n",
       "        text-align: right;\n",
       "    }\n",
       "</style>\n",
       "<table border=\"1\" class=\"dataframe\">\n",
       "  <thead>\n",
       "    <tr style=\"text-align: right;\">\n",
       "      <th></th>\n",
       "      <th>bandwidth</th>\n",
       "      <th>avg_ping_ms</th>\n",
       "      <th>bandwidth_gbits</th>\n",
       "    </tr>\n",
       "  </thead>\n",
       "  <tbody>\n",
       "    <tr>\n",
       "      <th>count</th>\n",
       "      <td>5.000000</td>\n",
       "      <td>5.000000</td>\n",
       "      <td>5.000000</td>\n",
       "    </tr>\n",
       "    <tr>\n",
       "      <th>mean</th>\n",
       "      <td>454.600000</td>\n",
       "      <td>51.220200</td>\n",
       "      <td>0.454600</td>\n",
       "    </tr>\n",
       "    <tr>\n",
       "      <th>std</th>\n",
       "      <td>5.128353</td>\n",
       "      <td>0.062966</td>\n",
       "      <td>0.005128</td>\n",
       "    </tr>\n",
       "  </tbody>\n",
       "</table>\n",
       "</div>"
      ],
      "text/plain": [
       "        bandwidth  avg_ping_ms  bandwidth_gbits\n",
       "count    5.000000     5.000000         5.000000\n",
       "mean   454.600000    51.220200         0.454600\n",
       "std      5.128353     0.062966         0.005128"
      ]
     },
     "execution_count": 25,
     "metadata": {},
     "output_type": "execute_result"
    }
   ],
   "source": [
    "gc_azure_df = convert_to_gbits(pd.read_csv(gc_azure_path))\n",
    "gc_azure_df.query(\"target_hostname == 'azure-t4-1'\").describe()[:3]"
   ]
  },
  {
   "cell_type": "markdown",
   "id": "8fe94c2f",
   "metadata": {},
   "source": [
    "# ENHANCING LOCAL RESOURCES Experiments"
   ]
  },
  {
   "cell_type": "code",
   "execution_count": 26,
   "id": "d9674077",
   "metadata": {},
   "outputs": [],
   "source": [
    "rtx8000_eu_gc_path = exp_3_path + \"/3-P.0/iperf-profile-rtx8000.csv\"\n",
    "rtx8000_us_gc_path = exp_3_path + \"/3-P.1/iperf-profile-rtx8000.csv\"\n",
    "rtx8000_us_lambda_path = exp_3_path + \"/3-P.2/iperf-profile-rtx8000.csv\"\n",
    "v100_eu_gc_path = exp_3_path + \"/3-R.0/iperf-profile-8xv100.csv\"\n",
    "v100_us_gc_path = exp_3_path + \"/3-R.1/iperf-profile-8xv100.csv\"\n",
    "v100_us_lambda_path = exp_3_path + \"/3-R.2/iperf-profile-8xv100.csv\"\n",
    "\n",
    "exp_4_path = NETWORK_PATH + \"/experiment-set-4\"\n",
    "lambda_a10_path = exp_4_path + \"/iperf-profile-lambda-a10.csv\""
   ]
  },
  {
   "cell_type": "markdown",
   "id": "2ce46e6f",
   "metadata": {},
   "source": [
    "### RTX8000 -> EU T4"
   ]
  },
  {
   "cell_type": "code",
   "execution_count": 27,
   "id": "f89ef439",
   "metadata": {},
   "outputs": [
    {
     "data": {
      "text/html": [
       "<div>\n",
       "<style scoped>\n",
       "    .dataframe tbody tr th:only-of-type {\n",
       "        vertical-align: middle;\n",
       "    }\n",
       "\n",
       "    .dataframe tbody tr th {\n",
       "        vertical-align: top;\n",
       "    }\n",
       "\n",
       "    .dataframe thead th {\n",
       "        text-align: right;\n",
       "    }\n",
       "</style>\n",
       "<table border=\"1\" class=\"dataframe\">\n",
       "  <thead>\n",
       "    <tr style=\"text-align: right;\">\n",
       "      <th></th>\n",
       "      <th>bandwidth</th>\n",
       "      <th>avg_ping_ms</th>\n",
       "      <th>bandwidth_gbits</th>\n",
       "    </tr>\n",
       "  </thead>\n",
       "  <tbody>\n",
       "    <tr>\n",
       "      <th>count</th>\n",
       "      <td>5.000000</td>\n",
       "      <td>5.000000</td>\n",
       "      <td>5.000000</td>\n",
       "    </tr>\n",
       "    <tr>\n",
       "      <th>mean</th>\n",
       "      <td>454.600000</td>\n",
       "      <td>16.731000</td>\n",
       "      <td>0.454600</td>\n",
       "    </tr>\n",
       "    <tr>\n",
       "      <th>std</th>\n",
       "      <td>192.415696</td>\n",
       "      <td>0.189727</td>\n",
       "      <td>0.192416</td>\n",
       "    </tr>\n",
       "  </tbody>\n",
       "</table>\n",
       "</div>"
      ],
      "text/plain": [
       "        bandwidth  avg_ping_ms  bandwidth_gbits\n",
       "count    5.000000     5.000000         5.000000\n",
       "mean   454.600000    16.731000         0.454600\n",
       "std    192.415696     0.189727         0.192416"
      ]
     },
     "execution_count": 27,
     "metadata": {},
     "output_type": "execute_result"
    }
   ],
   "source": [
    "rtx8000_eu_gc_df = convert_to_gbits(pd.read_csv(rtx8000_eu_gc_path))\n",
    "rtx8000_eu_gc_df.describe()[:3]"
   ]
  },
  {
   "cell_type": "markdown",
   "id": "7f44c319",
   "metadata": {},
   "source": [
    "### RTX8000 -> US T4"
   ]
  },
  {
   "cell_type": "code",
   "execution_count": 28,
   "id": "01bd5264",
   "metadata": {},
   "outputs": [
    {
     "data": {
      "text/html": [
       "<div>\n",
       "<style scoped>\n",
       "    .dataframe tbody tr th:only-of-type {\n",
       "        vertical-align: middle;\n",
       "    }\n",
       "\n",
       "    .dataframe tbody tr th {\n",
       "        vertical-align: top;\n",
       "    }\n",
       "\n",
       "    .dataframe thead th {\n",
       "        text-align: right;\n",
       "    }\n",
       "</style>\n",
       "<table border=\"1\" class=\"dataframe\">\n",
       "  <thead>\n",
       "    <tr style=\"text-align: right;\">\n",
       "      <th></th>\n",
       "      <th>bandwidth</th>\n",
       "      <th>avg_ping_ms</th>\n",
       "      <th>bandwidth_gbits</th>\n",
       "    </tr>\n",
       "  </thead>\n",
       "  <tbody>\n",
       "    <tr>\n",
       "      <th>count</th>\n",
       "      <td>5.000000</td>\n",
       "      <td>5.000000</td>\n",
       "      <td>5.000000</td>\n",
       "    </tr>\n",
       "    <tr>\n",
       "      <th>mean</th>\n",
       "      <td>63.640000</td>\n",
       "      <td>150.803200</td>\n",
       "      <td>0.063640</td>\n",
       "    </tr>\n",
       "    <tr>\n",
       "      <th>std</th>\n",
       "      <td>23.787665</td>\n",
       "      <td>0.284777</td>\n",
       "      <td>0.023788</td>\n",
       "    </tr>\n",
       "  </tbody>\n",
       "</table>\n",
       "</div>"
      ],
      "text/plain": [
       "       bandwidth  avg_ping_ms  bandwidth_gbits\n",
       "count   5.000000     5.000000         5.000000\n",
       "mean   63.640000   150.803200         0.063640\n",
       "std    23.787665     0.284777         0.023788"
      ]
     },
     "execution_count": 28,
     "metadata": {},
     "output_type": "execute_result"
    }
   ],
   "source": [
    "rtx8000_us_gc_df = convert_to_gbits(pd.read_csv(rtx8000_us_gc_path))\n",
    "rtx8000_us_gc_df.describe()[:3]"
   ]
  },
  {
   "cell_type": "markdown",
   "id": "d2167775",
   "metadata": {},
   "source": [
    "### RTX8000 -> US A10"
   ]
  },
  {
   "cell_type": "code",
   "execution_count": 29,
   "id": "53d9e6aa",
   "metadata": {
    "scrolled": true
   },
   "outputs": [
    {
     "data": {
      "text/html": [
       "<div>\n",
       "<style scoped>\n",
       "    .dataframe tbody tr th:only-of-type {\n",
       "        vertical-align: middle;\n",
       "    }\n",
       "\n",
       "    .dataframe tbody tr th {\n",
       "        vertical-align: top;\n",
       "    }\n",
       "\n",
       "    .dataframe thead th {\n",
       "        text-align: right;\n",
       "    }\n",
       "</style>\n",
       "<table border=\"1\" class=\"dataframe\">\n",
       "  <thead>\n",
       "    <tr style=\"text-align: right;\">\n",
       "      <th></th>\n",
       "      <th>bandwidth</th>\n",
       "      <th>avg_ping_ms</th>\n",
       "      <th>bandwidth_gbits</th>\n",
       "    </tr>\n",
       "  </thead>\n",
       "  <tbody>\n",
       "    <tr>\n",
       "      <th>count</th>\n",
       "      <td>5.000000</td>\n",
       "      <td>5.000000</td>\n",
       "      <td>5.000000</td>\n",
       "    </tr>\n",
       "    <tr>\n",
       "      <th>mean</th>\n",
       "      <td>54.580000</td>\n",
       "      <td>159.054000</td>\n",
       "      <td>0.054580</td>\n",
       "    </tr>\n",
       "    <tr>\n",
       "      <th>std</th>\n",
       "      <td>14.543624</td>\n",
       "      <td>0.067657</td>\n",
       "      <td>0.014544</td>\n",
       "    </tr>\n",
       "  </tbody>\n",
       "</table>\n",
       "</div>"
      ],
      "text/plain": [
       "       bandwidth  avg_ping_ms  bandwidth_gbits\n",
       "count   5.000000     5.000000         5.000000\n",
       "mean   54.580000   159.054000         0.054580\n",
       "std    14.543624     0.067657         0.014544"
      ]
     },
     "execution_count": 29,
     "metadata": {},
     "output_type": "execute_result"
    }
   ],
   "source": [
    "rtx8000_us_lambda_df = convert_to_gbits(pd.read_csv(rtx8000_us_lambda_path))\n",
    "rtx8000_us_lambda_df.describe()[:3]"
   ]
  },
  {
   "cell_type": "markdown",
   "id": "4d536463",
   "metadata": {},
   "source": [
    "### V100 -> EU T4"
   ]
  },
  {
   "cell_type": "code",
   "execution_count": 30,
   "id": "388f39bd",
   "metadata": {},
   "outputs": [
    {
     "data": {
      "text/html": [
       "<div>\n",
       "<style scoped>\n",
       "    .dataframe tbody tr th:only-of-type {\n",
       "        vertical-align: middle;\n",
       "    }\n",
       "\n",
       "    .dataframe tbody tr th {\n",
       "        vertical-align: top;\n",
       "    }\n",
       "\n",
       "    .dataframe thead th {\n",
       "        text-align: right;\n",
       "    }\n",
       "</style>\n",
       "<table border=\"1\" class=\"dataframe\">\n",
       "  <thead>\n",
       "    <tr style=\"text-align: right;\">\n",
       "      <th></th>\n",
       "      <th>bandwidth</th>\n",
       "      <th>avg_ping_ms</th>\n",
       "      <th>bandwidth_gbits</th>\n",
       "    </tr>\n",
       "  </thead>\n",
       "  <tbody>\n",
       "    <tr>\n",
       "      <th>count</th>\n",
       "      <td>5.000000</td>\n",
       "      <td>5.000000</td>\n",
       "      <td>5.00000</td>\n",
       "    </tr>\n",
       "    <tr>\n",
       "      <th>mean</th>\n",
       "      <td>550.200000</td>\n",
       "      <td>16.187200</td>\n",
       "      <td>0.55020</td>\n",
       "    </tr>\n",
       "    <tr>\n",
       "      <th>std</th>\n",
       "      <td>148.380255</td>\n",
       "      <td>0.075794</td>\n",
       "      <td>0.14838</td>\n",
       "    </tr>\n",
       "  </tbody>\n",
       "</table>\n",
       "</div>"
      ],
      "text/plain": [
       "        bandwidth  avg_ping_ms  bandwidth_gbits\n",
       "count    5.000000     5.000000          5.00000\n",
       "mean   550.200000    16.187200          0.55020\n",
       "std    148.380255     0.075794          0.14838"
      ]
     },
     "execution_count": 30,
     "metadata": {},
     "output_type": "execute_result"
    }
   ],
   "source": [
    "v100_eu_gc_df = convert_to_gbits(pd.read_csv(v100_eu_gc_path))\n",
    "v100_eu_gc_df.describe()[:3]"
   ]
  },
  {
   "cell_type": "markdown",
   "id": "24f01c1b",
   "metadata": {},
   "source": [
    "### V100 -> US T4"
   ]
  },
  {
   "cell_type": "code",
   "execution_count": 31,
   "id": "29519c88",
   "metadata": {},
   "outputs": [
    {
     "data": {
      "text/html": [
       "<div>\n",
       "<style scoped>\n",
       "    .dataframe tbody tr th:only-of-type {\n",
       "        vertical-align: middle;\n",
       "    }\n",
       "\n",
       "    .dataframe tbody tr th {\n",
       "        vertical-align: top;\n",
       "    }\n",
       "\n",
       "    .dataframe thead th {\n",
       "        text-align: right;\n",
       "    }\n",
       "</style>\n",
       "<table border=\"1\" class=\"dataframe\">\n",
       "  <thead>\n",
       "    <tr style=\"text-align: right;\">\n",
       "      <th></th>\n",
       "      <th>bandwidth</th>\n",
       "      <th>avg_ping_ms</th>\n",
       "      <th>bandwidth_gbits</th>\n",
       "    </tr>\n",
       "  </thead>\n",
       "  <tbody>\n",
       "    <tr>\n",
       "      <th>count</th>\n",
       "      <td>5.000000</td>\n",
       "      <td>5.000000</td>\n",
       "      <td>5.000000</td>\n",
       "    </tr>\n",
       "    <tr>\n",
       "      <th>mean</th>\n",
       "      <td>77.840000</td>\n",
       "      <td>150.272000</td>\n",
       "      <td>0.077840</td>\n",
       "    </tr>\n",
       "    <tr>\n",
       "      <th>std</th>\n",
       "      <td>10.192301</td>\n",
       "      <td>0.102291</td>\n",
       "      <td>0.010192</td>\n",
       "    </tr>\n",
       "  </tbody>\n",
       "</table>\n",
       "</div>"
      ],
      "text/plain": [
       "       bandwidth  avg_ping_ms  bandwidth_gbits\n",
       "count   5.000000     5.000000         5.000000\n",
       "mean   77.840000   150.272000         0.077840\n",
       "std    10.192301     0.102291         0.010192"
      ]
     },
     "execution_count": 31,
     "metadata": {},
     "output_type": "execute_result"
    }
   ],
   "source": [
    "v100_us_gc_df = convert_to_gbits(pd.read_csv(v100_us_gc_path))\n",
    "v100_us_gc_df.describe()[:3]"
   ]
  },
  {
   "cell_type": "markdown",
   "id": "5e300a7b",
   "metadata": {},
   "source": [
    "### V100 -> US A10"
   ]
  },
  {
   "cell_type": "code",
   "execution_count": 32,
   "id": "57408a7c",
   "metadata": {
    "scrolled": true
   },
   "outputs": [
    {
     "data": {
      "text/html": [
       "<div>\n",
       "<style scoped>\n",
       "    .dataframe tbody tr th:only-of-type {\n",
       "        vertical-align: middle;\n",
       "    }\n",
       "\n",
       "    .dataframe tbody tr th {\n",
       "        vertical-align: top;\n",
       "    }\n",
       "\n",
       "    .dataframe thead th {\n",
       "        text-align: right;\n",
       "    }\n",
       "</style>\n",
       "<table border=\"1\" class=\"dataframe\">\n",
       "  <thead>\n",
       "    <tr style=\"text-align: right;\">\n",
       "      <th></th>\n",
       "      <th>bandwidth</th>\n",
       "      <th>avg_ping_ms</th>\n",
       "      <th>bandwidth_gbits</th>\n",
       "    </tr>\n",
       "  </thead>\n",
       "  <tbody>\n",
       "    <tr>\n",
       "      <th>count</th>\n",
       "      <td>5.000000</td>\n",
       "      <td>5.000000</td>\n",
       "      <td>5.000000</td>\n",
       "    </tr>\n",
       "    <tr>\n",
       "      <th>mean</th>\n",
       "      <td>69.900000</td>\n",
       "      <td>158.541800</td>\n",
       "      <td>0.069900</td>\n",
       "    </tr>\n",
       "    <tr>\n",
       "      <th>std</th>\n",
       "      <td>12.335315</td>\n",
       "      <td>0.027317</td>\n",
       "      <td>0.012335</td>\n",
       "    </tr>\n",
       "  </tbody>\n",
       "</table>\n",
       "</div>"
      ],
      "text/plain": [
       "       bandwidth  avg_ping_ms  bandwidth_gbits\n",
       "count   5.000000     5.000000         5.000000\n",
       "mean   69.900000   158.541800         0.069900\n",
       "std    12.335315     0.027317         0.012335"
      ]
     },
     "execution_count": 32,
     "metadata": {},
     "output_type": "execute_result"
    }
   ],
   "source": [
    "v100_us_lambda_df = convert_to_gbits(pd.read_csv(v100_us_lambda_path))\n",
    "v100_us_lambda_df.describe()[:3]"
   ]
  },
  {
   "cell_type": "markdown",
   "id": "a8bda369",
   "metadata": {},
   "source": [
    "### A10 -> A10"
   ]
  },
  {
   "cell_type": "code",
   "execution_count": 33,
   "id": "4cc8df3b",
   "metadata": {},
   "outputs": [
    {
     "data": {
      "text/html": [
       "<div>\n",
       "<style scoped>\n",
       "    .dataframe tbody tr th:only-of-type {\n",
       "        vertical-align: middle;\n",
       "    }\n",
       "\n",
       "    .dataframe tbody tr th {\n",
       "        vertical-align: top;\n",
       "    }\n",
       "\n",
       "    .dataframe thead th {\n",
       "        text-align: right;\n",
       "    }\n",
       "</style>\n",
       "<table border=\"1\" class=\"dataframe\">\n",
       "  <thead>\n",
       "    <tr style=\"text-align: right;\">\n",
       "      <th></th>\n",
       "      <th>bandwidth</th>\n",
       "      <th>avg_ping_ms</th>\n",
       "      <th>bandwidth_gbits</th>\n",
       "    </tr>\n",
       "  </thead>\n",
       "  <tbody>\n",
       "    <tr>\n",
       "      <th>count</th>\n",
       "      <td>35.000000</td>\n",
       "      <td>35.000000</td>\n",
       "      <td>35.000000</td>\n",
       "    </tr>\n",
       "    <tr>\n",
       "      <th>mean</th>\n",
       "      <td>3.271143</td>\n",
       "      <td>0.295857</td>\n",
       "      <td>3.271143</td>\n",
       "    </tr>\n",
       "    <tr>\n",
       "      <th>std</th>\n",
       "      <td>0.109592</td>\n",
       "      <td>0.036119</td>\n",
       "      <td>0.109592</td>\n",
       "    </tr>\n",
       "  </tbody>\n",
       "</table>\n",
       "</div>"
      ],
      "text/plain": [
       "       bandwidth  avg_ping_ms  bandwidth_gbits\n",
       "count  35.000000    35.000000        35.000000\n",
       "mean    3.271143     0.295857         3.271143\n",
       "std     0.109592     0.036119         0.109592"
      ]
     },
     "execution_count": 33,
     "metadata": {},
     "output_type": "execute_result"
    }
   ],
   "source": [
    "lambda_df = convert_to_gbits(pd.read_csv(lambda_a10_path))\n",
    "lambda_df.describe()[:3]"
   ]
  }
 ],
 "metadata": {
  "kernelspec": {
   "display_name": "Python 3 (ipykernel)",
   "language": "python",
   "name": "python3"
  },
  "language_info": {
   "codemirror_mode": {
    "name": "ipython",
    "version": 3
   },
   "file_extension": ".py",
   "mimetype": "text/x-python",
   "name": "python",
   "nbconvert_exporter": "python",
   "pygments_lexer": "ipython3",
   "version": "3.9.0"
  }
 },
 "nbformat": 4,
 "nbformat_minor": 5
}
